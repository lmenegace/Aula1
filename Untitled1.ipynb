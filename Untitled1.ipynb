{
  "nbformat": 4,
  "nbformat_minor": 0,
  "metadata": {
    "colab": {
      "provenance": [],
      "authorship_tag": "ABX9TyN4U6mrPZzs1nybSsQilKKV",
      "include_colab_link": true
    },
    "kernelspec": {
      "name": "python3",
      "display_name": "Python 3"
    },
    "language_info": {
      "name": "python"
    }
  },
  "cells": [
    {
      "cell_type": "markdown",
      "metadata": {
        "id": "view-in-github",
        "colab_type": "text"
      },
      "source": [
        "<a href=\"https://colab.research.google.com/github/lmenegace/Aula1/blob/main/Untitled1.ipynb\" target=\"_parent\"><img src=\"https://colab.research.google.com/assets/colab-badge.svg\" alt=\"Open In Colab\"/></a>"
      ]
    },
    {
      "cell_type": "markdown",
      "source": [],
      "metadata": {
        "id": "CL8fHmtlWdDX"
      }
    },
    {
      "cell_type": "markdown",
      "source": [
        "Explicações do Professor"
      ],
      "metadata": {
        "id": "2U4qTPbSWf4W"
      }
    },
    {
      "cell_type": "code",
      "source": [
        "#Comentarios\n",
        "num=input(\"Digitevalor:\")\n",
        "print(num)"
      ],
      "metadata": {
        "colab": {
          "base_uri": "https://localhost:8080/"
        },
        "id": "skbvabz4XMRr",
        "outputId": "f52866d7-0bc4-4982-d084-954f782ccdff"
      },
      "execution_count": 1,
      "outputs": [
        {
          "output_type": "stream",
          "name": "stdout",
          "text": [
            "Digitevalor:3\n",
            "3\n"
          ]
        }
      ]
    },
    {
      "cell_type": "code",
      "source": [],
      "metadata": {
        "id": "oNN_x2MvXZtL"
      },
      "execution_count": null,
      "outputs": []
    }
  ]
}